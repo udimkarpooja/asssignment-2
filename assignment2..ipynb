{
 "cells": [
  {
   "cell_type": "markdown",
   "id": "4a3ee9c8-8acd-4608-9aaa-dbe8e4bee71b",
   "metadata": {},
   "source": [
    "Q1).\n",
    "The def keyword is used to create a function."
   ]
  },
  {
   "cell_type": "code",
   "execution_count": 2,
   "id": "c84db2e9-3625-44ee-99ac-0ef0737a5697",
   "metadata": {},
   "outputs": [],
   "source": [
    "def test():\n",
    "    l = []\n",
    "    for i in range(1,25):\n",
    "        if i%2 != 0 :\n",
    "            l.append(i)\n",
    "    return l    \n",
    "    "
   ]
  },
  {
   "cell_type": "code",
   "execution_count": 3,
   "id": "78202686-6411-4987-8803-ae0fcff3ab27",
   "metadata": {},
   "outputs": [
    {
     "data": {
      "text/plain": [
       "[1, 3, 5, 7, 9, 11, 13, 15, 17, 19, 21, 23]"
      ]
     },
     "execution_count": 3,
     "metadata": {},
     "output_type": "execute_result"
    }
   ],
   "source": [
    "test()"
   ]
  },
  {
   "cell_type": "markdown",
   "id": "16f251fe-53ff-42af-83cd-0f8f4ec68cb0",
   "metadata": {},
   "source": [
    "Q2). We can use *args and **kwargs as arguments of a function when you are unsure about the number of arguments to pass in the function ."
   ]
  },
  {
   "cell_type": "code",
   "execution_count": 4,
   "id": "d4db3f23-d6ea-4603-9a4c-199dee07507d",
   "metadata": {},
   "outputs": [],
   "source": [
    "def test11(*args):\n",
    "    return args"
   ]
  },
  {
   "cell_type": "code",
   "execution_count": 5,
   "id": "079e19a5-3f44-4ef1-834b-fd46d7c0ae18",
   "metadata": {},
   "outputs": [
    {
     "data": {
      "text/plain": [
       "(12, 36, 54, 45)"
      ]
     },
     "execution_count": 5,
     "metadata": {},
     "output_type": "execute_result"
    }
   ],
   "source": [
    "test11(12, 36, 54, 45)"
   ]
  },
  {
   "cell_type": "code",
   "execution_count": 6,
   "id": "58eb2f66-31f6-48ee-923f-c5a92c0093f0",
   "metadata": {},
   "outputs": [],
   "source": [
    "def test12(**kwargs) :\n",
    "    return kwargs"
   ]
  },
  {
   "cell_type": "code",
   "execution_count": 7,
   "id": "4bf25dd6-b705-4a8c-b39f-e14ecafc0acb",
   "metadata": {},
   "outputs": [
    {
     "data": {
      "text/plain": [
       "{'first': 'pooja', 'sec': 'aarti', 'third': 'roshani'}"
      ]
     },
     "execution_count": 7,
     "metadata": {},
     "output_type": "execute_result"
    }
   ],
   "source": [
    "test12(first = \"pooja\" , sec = \"aarti\" , third = \"roshani\")"
   ]
  },
  {
   "cell_type": "markdown",
   "id": "6c79bbdc-c2a4-4f84-b84f-1f4ab0b910bc",
   "metadata": {},
   "source": [
    "Q3).In pythan , an iterator is an object that allows you to iterate over collection of data, such as lists, tuples, dictionaries and sets"
   ]
  },
  {
   "cell_type": "markdown",
   "id": "b9425b21-7c68-4ec9-908a-9b06e764c972",
   "metadata": {},
   "source": [
    "iter() mathod is used to initialize the iterator object so that the instance of this object can be used for iterator."
   ]
  },
  {
   "cell_type": "code",
   "execution_count": 10,
   "id": "70c76caf-0812-45cf-be25-25ceb321c2ab",
   "metadata": {},
   "outputs": [
    {
     "name": "stdout",
     "output_type": "stream",
     "text": [
      "[2, 4, 6, 8, 10]\n"
     ]
    }
   ],
   "source": [
    "l = [2, 4, 6, 8, 10, 12, 14, 16, 18, 20]\n",
    "l1 = []\n",
    "for i in l :\n",
    "    if i<=10:\n",
    "        l1.append(i)\n",
    "print(l1)\n"
   ]
  },
  {
   "cell_type": "markdown",
   "id": "43f29558-ccf0-40e4-9ec0-4f2726be32bd",
   "metadata": {},
   "source": [
    "Q4).A python genertor function allows you to declare a function that behaves like an iterator, providing a faster and easier way to create iterators. The yield keyword in controls the flow of a genrator function. "
   ]
  },
  {
   "cell_type": "code",
   "execution_count": 11,
   "id": "e2f0715d-7d98-4ac8-8dcc-92d0d2d3b84b",
   "metadata": {},
   "outputs": [],
   "source": [
    "def test_fib1():\n",
    "    a,b = 0,1\n",
    "    while True :\n",
    "        yield a \n",
    "        a,b = b , a+b "
   ]
  },
  {
   "cell_type": "code",
   "execution_count": 12,
   "id": "e51d4b9f-832f-40f6-b1e5-0ca806527548",
   "metadata": {},
   "outputs": [],
   "source": [
    "fib = test_fib1()"
   ]
  },
  {
   "cell_type": "code",
   "execution_count": 13,
   "id": "ea7159af-bf65-42de-ac53-1a20575f2b1d",
   "metadata": {},
   "outputs": [
    {
     "name": "stdout",
     "output_type": "stream",
     "text": [
      "0\n",
      "1\n",
      "1\n",
      "2\n",
      "3\n",
      "5\n",
      "8\n",
      "13\n",
      "21\n",
      "34\n"
     ]
    }
   ],
   "source": [
    "for i in range(10):\n",
    "    print(next(fib))"
   ]
  },
  {
   "cell_type": "code",
   "execution_count": 15,
   "id": "e9904808-a5e2-46f3-a08b-f5db50c1f481",
   "metadata": {},
   "outputs": [
    {
     "name": "stdin",
     "output_type": "stream",
     "text": [
      "Enter the range:  1000\n"
     ]
    },
    {
     "name": "stdout",
     "output_type": "stream",
     "text": [
      "2 3 5 7 11 13 17 19 23 29 31 37 41 43 47 53 59 61 67 71 73 79 83 89 97 101 103 107 109 113 127 131 137 139 149 151 157 163 167 173 179 181 191 193 197 199 211 223 227 229 233 239 241 251 257 263 269 271 277 281 283 293 307 311 313 317 331 337 347 349 353 359 367 373 379 383 389 397 401 409 419 421 431 433 439 443 449 457 461 463 467 479 487 491 499 503 509 521 523 541 547 557 563 569 571 577 587 593 599 601 607 613 617 619 631 641 643 647 653 659 661 673 677 683 691 701 709 719 727 733 739 743 751 757 761 769 773 787 797 809 811 821 823 827 829 839 853 857 859 863 877 881 883 887 907 911 919 929 937 941 947 953 967 971 977 983 991 997 "
     ]
    }
   ],
   "source": [
    "#Q5)\n",
    "def Prime_seq(num):\n",
    "    for i in range(2,num):\n",
    "        if prime(i) == True:\n",
    "            print(i,end = \" \")\n",
    "        else:\n",
    "            pass\n",
    "\n",
    "num = int(input(\"Enter the range: \"))\n",
    "prime = lambda num: all( num%x != 0 for x in range(2, int(num**.5)+1) )\n",
    "Prime_seq(num)\n",
    "\n"
   ]
  },
  {
   "cell_type": "code",
   "execution_count": 23,
   "id": "7f80800f-1661-4137-a285-a2fe8cbf5209",
   "metadata": {},
   "outputs": [],
   "source": [
    "#Q6)\n",
    "def test_fib(n):\n",
    "    a,b = 0,1\n",
    "    for i in range(n) :\n",
    "    \n",
    "        yield a\n",
    "        a,b = b , a+b\n",
    "    \n",
    "\n"
   ]
  },
  {
   "cell_type": "code",
   "execution_count": 24,
   "id": "ab329d98-75c7-4b05-b83e-f3ba60c469f7",
   "metadata": {},
   "outputs": [
    {
     "data": {
      "text/plain": [
       "<generator object test_fib at 0x7fc82c1052a0>"
      ]
     },
     "execution_count": 24,
     "metadata": {},
     "output_type": "execute_result"
    }
   ],
   "source": [
    "test_fib(10)"
   ]
  },
  {
   "cell_type": "code",
   "execution_count": 25,
   "id": "04c2f57c-3a11-484c-8a52-407ba9b32fe9",
   "metadata": {},
   "outputs": [
    {
     "name": "stdout",
     "output_type": "stream",
     "text": [
      "0\n",
      "1\n",
      "1\n",
      "2\n",
      "3\n",
      "5\n",
      "8\n",
      "13\n",
      "21\n",
      "34\n"
     ]
    }
   ],
   "source": [
    "for i in test_fib(10):\n",
    "    print(i)"
   ]
  },
  {
   "cell_type": "code",
   "execution_count": 34,
   "id": "374bf73b-fd94-48d1-9cac-8d7a1a20fa2c",
   "metadata": {},
   "outputs": [],
   "source": [
    "s = \"pwskills\""
   ]
  },
  {
   "cell_type": "code",
   "execution_count": 31,
   "id": "fb6edfad-5def-460a-b13e-b08732eeea28",
   "metadata": {},
   "outputs": [
    {
     "name": "stdout",
     "output_type": "stream",
     "text": [
      "['p']\n",
      "['w']\n",
      "['s']\n",
      "['k']\n",
      "['i']\n",
      "['l']\n",
      "['l']\n",
      "['s']\n"
     ]
    }
   ],
   "source": [
    "for i in s :\n",
    "    print( list(i))"
   ]
  },
  {
   "cell_type": "code",
   "execution_count": null,
   "id": "db906f18-e54d-4ca0-b29a-868325b97ed8",
   "metadata": {},
   "outputs": [],
   "source": [
    "#Q8)\n",
    "n=int(input(\"Enter number:\"))\n",
    "temp=n\n",
    "rev=0\n",
    "while\n",
    "(n>0):\n",
    "    dig=n%10\n",
    "    rev=rev*10+dig\n",
    "    n=n//10\n",
    "if(temp==rev):\n",
    "    print(\"The number is a palindrome!\")\n",
    "else:\n",
    "    print(\"The number isn't a palindrome!\")"
   ]
  },
  {
   "cell_type": "code",
   "execution_count": null,
   "id": "27b74d7d-35d5-4e2f-86e8-5af817ca110c",
   "metadata": {},
   "outputs": [],
   "source": [
    "for i in range(1,100):\n",
    "    if i %2 != 0:\n",
    "        print(i)"
   ]
  },
  {
   "cell_type": "code",
   "execution_count": null,
   "id": "01a581a7-32f8-40cb-bbd6-e45d1c7e5dd1",
   "metadata": {},
   "outputs": [],
   "source": []
  },
  {
   "cell_type": "code",
   "execution_count": null,
   "id": "47456225-d4bc-4bc3-8ef5-72ce76731963",
   "metadata": {},
   "outputs": [],
   "source": []
  }
 ],
 "metadata": {
  "kernelspec": {
   "display_name": "Python 3 (ipykernel)",
   "language": "python",
   "name": "python3"
  },
  "language_info": {
   "codemirror_mode": {
    "name": "ipython",
    "version": 3
   },
   "file_extension": ".py",
   "mimetype": "text/x-python",
   "name": "python",
   "nbconvert_exporter": "python",
   "pygments_lexer": "ipython3",
   "version": "3.10.8"
  }
 },
 "nbformat": 4,
 "nbformat_minor": 5
}
